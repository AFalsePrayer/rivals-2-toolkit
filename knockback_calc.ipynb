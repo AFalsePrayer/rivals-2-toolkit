{
 "cells": [
  {
   "cell_type": "code",
   "execution_count": null,
   "metadata": {},
   "outputs": [],
   "source": [
    "# This file is kind of a mess, not gonna lie. It's mostly developmental work in trying to get knockback to approximate the game as much as possible, but imitating float point precision from Unreal is difficult."
   ]
  },
  {
   "cell_type": "code",
   "execution_count": 2,
   "metadata": {},
   "outputs": [],
   "source": [
    "import json\n",
    "import os\n",
    "import math\n",
    "\n",
    "json_path = 'r2data_patch_1000.json' # REPLACE WITH YOUR OWN PATH. MAKE SURE NO BACKSLASHES.\n",
    "\n",
    "char_data = json.load(open(json_path, 'r'))"
   ]
  },
  {
   "cell_type": "code",
   "execution_count": 7,
   "metadata": {},
   "outputs": [
    {
     "data": {
      "text/plain": [
       "26.787692307692303"
      ]
     },
     "execution_count": 7,
     "metadata": {},
     "output_type": "execute_result"
    }
   ],
   "source": [
    "# Knockback Simulator\n",
    "\n",
    "base_kb = 6\n",
    "scaled_kb = 0.85\n",
    "weight = 95\n",
    "p = 20 + 8\n",
    "initial_kb = 3 * (base_kb + scaled_kb * 0.12 * p * (200 / (weight + 100)))\n",
    "\n",
    "hitstun_gravity = 1.4\n",
    "hitstun_gravity_jerk_frames = 5\n",
    "hitstun_multi = 1.0\n",
    "hitstun_frames = math.floor(initial_kb * (4.07/3) * hitstun_multi*.92)\n",
    "max_fall_speed = 28\n",
    "\n",
    "original_angle = 320\n",
    "angle = original_angle * 2 * math.pi / 360\n",
    "\n",
    "initial_kb"
   ]
  },
  {
   "cell_type": "code",
   "execution_count": 358,
   "metadata": {},
   "outputs": [
    {
     "name": "stdout",
     "output_type": "stream",
     "text": [
      "Clairen 78\n",
      "Etalus 87\n",
      "Fleet 77\n",
      "Forsburn 82\n",
      "Kragg 88\n",
      "Loxodont 88\n",
      "Maypul 76\n",
      "Orcane 84\n",
      "Ranno 79\n",
      "Wrastor 73\n",
      "Zetterburn 82\n"
     ]
    }
   ],
   "source": [
    "for k,v in weights.items():\n",
    "    p = 30\n",
    "    hitstun_frames = 0\n",
    "    while(hitstun_frames < 34):\n",
    "        initial_kb = 3 * (base_kb + scaled_kb * 0.120125 * p * (200 / (v + 100)))\n",
    "        hitstun_frames = math.floor(initial_kb * (4.07/3) * hitstun_multi *0.94)\n",
    "        p += 1\n",
    "    print(k,p-8)\n"
   ]
  },
  {
   "cell_type": "code",
   "execution_count": 259,
   "metadata": {},
   "outputs": [],
   "source": [
    "weights = dict()\n",
    "for k,v in char_data.items():\n",
    "    weights[k] = v['Stats']['Weight']"
   ]
  },
  {
   "cell_type": "code",
   "execution_count": 260,
   "metadata": {},
   "outputs": [],
   "source": [
    "hitstun_gravity = 1.4\n",
    "hitstun_gravity_jerk_frames = 5\n",
    "hitstun_multi = 1.0\n",
    "hitstun_frames = math.floor(initial_kb * (4.07/3) * hitstun_multi)\n",
    "max_fall_speed = 28"
   ]
  },
  {
   "cell_type": "code",
   "execution_count": 261,
   "metadata": {},
   "outputs": [],
   "source": [
    "kills_off_top = {'AetherianForest': [1930.0, 2180.0],\n",
    " 'AirArmada': [1780.0, 2080.0],\n",
    " 'FireCapital': [1754.0, 2004.0, 2254.0],\n",
    " 'ForestUnderstory': [1930.0, 2180.0],\n",
    " 'GodaiDelta': [1990.0, 2230.0],\n",
    " 'Hodojo': [1675.0, 1935.0, 2195.0],\n",
    " 'HyperboreanHarbor': [1670.0, 1620.0, 1940.0],\n",
    " 'Julesvale': [1900.0, 1630.0, 2170.0],\n",
    " 'MerchantPort': [1860.0, 1660.0, 2140.0],\n",
    " 'RockWall': [1870.0, 1610.0, 2130.0],\n",
    " 'StormsweptPillar': [1935.0, 2260.0],\n",
    " 'TempestPeak': [1955.0, 2260.0],\n",
    " 'TrainingRoom': [1754.0, 1994.0, 2254.0]}"
   ]
  },
  {
   "cell_type": "markdown",
   "metadata": {},
   "source": [
    "for k,v in kills_off_top.items():\n",
    "    kills_off_top[k] = "
   ]
  },
  {
   "cell_type": "code",
   "execution_count": 293,
   "metadata": {},
   "outputs": [
    {
     "data": {
      "text/plain": [
       "0.7660444431189778"
      ]
     },
     "execution_count": 293,
     "metadata": {},
     "output_type": "execute_result"
    }
   ],
   "source": [
    "original_angle = 320\n",
    "angle = original_angle * 2 * math.pi / 360\n",
    "math.cos(angle)"
   ]
  },
  {
   "cell_type": "code",
   "execution_count": 335,
   "metadata": {},
   "outputs": [
    {
     "data": {
      "text/plain": [
       "(-4.1043336927113114e-14, -223.42951973684214)"
      ]
     },
     "execution_count": 335,
     "metadata": {},
     "output_type": "execute_result"
    }
   ],
   "source": [
    "original_angle = 270\n",
    "angle = original_angle * 2 * math.pi / 360\n",
    "\n",
    "initial_kb * math.cos(angle), initial_kb * math.sin(angle)"
   ]
  },
  {
   "cell_type": "code",
   "execution_count": 287,
   "metadata": {},
   "outputs": [
    {
     "data": {
      "text/plain": [
       "1.1437496272431482"
      ]
     },
     "execution_count": 287,
     "metadata": {},
     "output_type": "execute_result"
    }
   ],
   "source": [
    "-135.17290594610424/-118.184"
   ]
  },
  {
   "cell_type": "code",
   "execution_count": 284,
   "metadata": {},
   "outputs": [
    {
     "data": {
      "text/plain": [
       "1.143751304848337"
      ]
     },
     "execution_count": 284,
     "metadata": {},
     "output_type": "execute_result"
    }
   ],
   "source": [
    "161.09279628266887/140.846"
   ]
  },
  {
   "cell_type": "code",
   "execution_count": 280,
   "metadata": {},
   "outputs": [
    {
     "data": {
      "text/plain": [
       "873.4429076125276"
      ]
     },
     "execution_count": 280,
     "metadata": {},
     "output_type": "execute_result"
    }
   ],
   "source": [
    "999/1.1437496272431482"
   ]
  },
  {
   "cell_type": "code",
   "execution_count": 12,
   "metadata": {},
   "outputs": [
    {
     "name": "stdout",
     "output_type": "stream",
     "text": [
      "1638.739\n"
     ]
    }
   ],
   "source": [
    "import math\n",
    "\n",
    "base_kb = 7.5\n",
    "scaled_kb = 1.1\n",
    "weight = 90\n",
    "pre_p = 100 # Post hit percent\n",
    "p = pre_p + 10 # Post hit percent\n",
    "\n",
    "initial_kb = 3 * (base_kb + scaled_kb * 0.120125 * p * (200 / (weight + 100)))\n",
    "\n",
    "hitstun_gravity = 1.4\n",
    "hitstun_gravity_jerk_frames = 5\n",
    "hitstun_multi = 1.0\n",
    "hitstun_frames = math.floor(initial_kb * (4.07/3) * hitstun_multi*.92)\n",
    "max_fall_speed = 28\n",
    "\n",
    "original_angle = 90 - 18\n",
    "angle = original_angle * 2 * math.pi / 360\n",
    "x_kb = initial_kb * math.cos(angle)\n",
    "y_kb = initial_kb * math.sin(angle)\n",
    "[x_kb,y_kb]\n",
    "\n",
    "frame = 1\n",
    "vx = 0\n",
    "vy = 0\n",
    "x_pos = 370.991\n",
    "y_pos = 0.012\n",
    "max_height = 0\n",
    "for a in range(hitstun_frames):\n",
    "    if(frame < hitstun_gravity_jerk_frames):\n",
    "        vy += frame/hitstun_gravity_jerk_frames*-1*hitstun_gravity\n",
    "    else:\n",
    "        vy += hitstun_gravity*-1\n",
    "        vy = max(vy, -1*max_fall_speed)\n",
    "    y_kb -= 0.54 * math.sin(angle)\n",
    "    if y_kb < 0:\n",
    "        y_kb = 0\n",
    "    x_kb -= 0.54 * math.cos(angle)\n",
    "    if x_kb < 0:\n",
    "        x_kb = 0\n",
    "\n",
    "    x_pos += x_kb + vx\n",
    "    y_pos += y_kb + vy\n",
    "    max_height = max(max_height, y_pos)\n",
    "    frame += 1\n",
    "print(\"{:.3f}\".format(max_height))"
   ]
  },
  {
   "cell_type": "code",
   "execution_count": 15,
   "metadata": {},
   "outputs": [
    {
     "name": "stdout",
     "output_type": "stream",
     "text": [
      "1850.366\n"
     ]
    }
   ],
   "source": [
    "import math\n",
    "\n",
    "p = pre_p + 11\n",
    "\n",
    "base_kb = 7.0\n",
    "scaled_kb = 1.0\n",
    "\n",
    "initial_kb = 3 * (base_kb + scaled_kb * 0.120125 * p * (200 / (weight + 100)))\n",
    "\n",
    "hitstun_multi = 1.0\n",
    "hitstun_frames = math.floor(initial_kb * (4.07/3) * hitstun_multi*.92)\n",
    "\n",
    "original_angle = 45 + 18\n",
    "angle = original_angle * 2 * math.pi / 360\n",
    "x_kb = initial_kb * math.cos(angle)\n",
    "y_kb = initial_kb * math.sin(angle)\n",
    "[x_kb,y_kb]\n",
    "\n",
    "frame = 1\n",
    "vx = 0\n",
    "vy = 0\n",
    "x_pos = 370.991\n",
    "y_pos = 0.012\n",
    "max_height = 0\n",
    "for a in range(hitstun_frames):\n",
    "    if(frame < hitstun_gravity_jerk_frames):\n",
    "        vy += frame/hitstun_gravity_jerk_frames*-1*hitstun_gravity\n",
    "    else:\n",
    "        vy += hitstun_gravity*-1\n",
    "        vy = max(vy, -1*max_fall_speed)\n",
    "    y_kb -= 0.54 * math.sin(angle)\n",
    "    if y_kb < 0:\n",
    "        y_kb = 0\n",
    "    x_kb -= 0.54 * math.cos(angle)\n",
    "    if x_kb < 0:\n",
    "        x_kb = 0\n",
    "\n",
    "    x_pos += x_kb + vx\n",
    "    y_pos += y_kb + vy\n",
    "    max_height = max(max_height, x_pos)\n",
    "    frame += 1\n",
    "print(\"{:.3f}\".format(max_height))"
   ]
  },
  {
   "cell_type": "code",
   "execution_count": 364,
   "metadata": {},
   "outputs": [
    {
     "data": {
      "text/plain": [
       "902.3438590276992"
      ]
     },
     "execution_count": 364,
     "metadata": {},
     "output_type": "execute_result"
    }
   ],
   "source": [
    "math.sqrt(871.666*871.666 + 233.287*233.287)"
   ]
  },
  {
   "cell_type": "code",
   "execution_count": 365,
   "metadata": {},
   "outputs": [
    {
     "data": {
      "text/plain": [
       "13.915297009014905"
      ]
     },
     "execution_count": 365,
     "metadata": {},
     "output_type": "execute_result"
    }
   ],
   "source": [
    "6 + 902.3438590276992/114"
   ]
  },
  {
   "cell_type": "code",
   "execution_count": 369,
   "metadata": {},
   "outputs": [
    {
     "data": {
      "text/plain": [
       "17.09434340134657"
      ]
     },
     "execution_count": 369,
     "metadata": {},
     "output_type": "execute_result"
    }
   ],
   "source": [
    "d = math.sqrt(pow(1417.5-152.82, 2) + pow(300.014-313.801, 2))\n",
    "d / 114 + 6"
   ]
  },
  {
   "cell_type": "code",
   "execution_count": 370,
   "metadata": {},
   "outputs": [
    {
     "data": {
      "text/plain": [
       "17.293090598057066"
      ]
     },
     "execution_count": 370,
     "metadata": {},
     "output_type": "execute_result"
    }
   ],
   "source": [
    "d = math.sqrt(pow(1440.185-152.82, 2) + pow(302.762-313.801, 2))\n",
    "d / 114 + 6"
   ]
  },
  {
   "cell_type": "code",
   "execution_count": 18,
   "metadata": {},
   "outputs": [
    {
     "data": {
      "text/plain": [
       "60"
      ]
     },
     "execution_count": 18,
     "metadata": {},
     "output_type": "execute_result"
    }
   ],
   "source": [
    "import math\n",
    "\n",
    "base_kb = 10\n",
    "scaled_kb = 0.45\n",
    "weight = 90\n",
    "pre_p = 100 # Post hit percent\n",
    "p = pre_p + 10 # Post hit percent\n",
    "\n",
    "initial_kb = 3 * (base_kb + scaled_kb * 0.120125 * p * (200 / (weight + 100)))\n",
    "\n",
    "hitstun_gravity = 1.4\n",
    "hitstun_gravity_jerk_frames = 5\n",
    "hitstun_multi = 1.0\n",
    "hitstun_frames = math.floor(initial_kb * (4.07/3) * hitstun_multi*.92)\n",
    "max_fall_speed = 28\n",
    "hitstun_frames"
   ]
  },
  {
   "cell_type": "code",
   "execution_count": null,
   "metadata": {},
   "outputs": [],
   "source": [
    "57 frames of hitstun for ftilt\n",
    "= 20 frames of endlag from ftilt\n",
    "9 frames of uspecial\n",
    "5 frames of tether startup\n",
    "8 frames of nair startup\n"
   ]
  },
  {
   "cell_type": "code",
   "execution_count": 19,
   "metadata": {},
   "outputs": [
    {
     "data": {
      "text/plain": [
       "42"
      ]
     },
     "execution_count": 19,
     "metadata": {},
     "output_type": "execute_result"
    }
   ],
   "source": [
    "20+9+5+8"
   ]
  },
  {
   "cell_type": "code",
   "execution_count": 24,
   "metadata": {},
   "outputs": [
    {
     "data": {
      "text/plain": [
       "13.803040003355015"
      ]
     },
     "execution_count": 24,
     "metadata": {},
     "output_type": "execute_result"
    }
   ],
   "source": [
    "6 + math.sqrt(pow(428.897-0.012, 2) + pow(778.413+27.531,2))/117"
   ]
  },
  {
   "cell_type": "code",
   "execution_count": null,
   "metadata": {},
   "outputs": [],
   "source": [
    "original_angle = 85 - 18\n",
    "angle = original_angle * 2 * math.pi / 360\n",
    "x_kb = initial_kb * math.cos(angle)\n",
    "y_kb = initial_kb * math.sin(angle)\n",
    "[x_kb,y_kb]\n",
    "\n",
    "frame = 1\n",
    "vx = 0\n",
    "vy = 0\n",
    "x_pos = 370.991\n",
    "y_pos = 0.012\n",
    "max_height = 0\n",
    "for a in range(hitstun_frames):\n",
    "    if(frame < hitstun_gravity_jerk_frames):\n",
    "        vy += frame/hitstun_gravity_jerk_frames*-1*hitstun_gravity\n",
    "    else:\n",
    "        vy += hitstun_gravity*-1\n",
    "        vy = max(vy, -1*max_fall_speed)\n",
    "    y_kb -= 0.54 * math.sin(angle)\n",
    "    if y_kb < 0:\n",
    "        y_kb = 0\n",
    "    x_kb -= 0.54 * math.cos(angle)\n",
    "    if x_kb < 0:\n",
    "        x_kb = 0\n",
    "\n",
    "    x_pos += x_kb + vx\n",
    "    y_pos += y_kb + vy\n",
    "    max_height = max(max_height, y_pos)\n",
    "    frame += 1\n",
    "print(\"{:.3f}\".format(max_height))"
   ]
  },
  {
   "cell_type": "code",
   "execution_count": 26,
   "metadata": {},
   "outputs": [
    {
     "name": "stdout",
     "output_type": "stream",
     "text": [
      "699.449\n"
     ]
    }
   ],
   "source": [
    "platform_heights = {'AetherianForest': [250.0],\n",
    " 'AirArmada': [300.0],\n",
    " 'FireCapital': [500.0, 250.0],\n",
    " 'ForestUnderstory': [250.0],\n",
    " 'GodaiDelta': [240.0],\n",
    " 'Hodojo': [520.0, 260.0],\n",
    " 'HyperboreanHarbor': [270.0, 320.0],\n",
    " 'Julesvale': [270.0, 540.0],\n",
    " 'MerchantPort': [280.0, 480.0],\n",
    " 'RockWall': [260.0, 520.0],\n",
    " 'StormsweptPillar': [325.0],\n",
    " 'TempestPeak': [305.0],\n",
    " 'TrainingRoom': [500.0, 260.0]}\n",
    "\n",
    "import math\n",
    "\n",
    "base_kb = 10.0\n",
    "scaled_kb = 0.45\n",
    "weight = 50\n",
    "\n",
    "\n",
    "\n",
    "\n",
    "# Given a move, finds the location of the final frame of hitstun as well as the max height\n",
    "def calc_move(character, angle):\n",
    "    initial_kb = 3 * (base_kb + scaled_kb * 0.120125 * p * (200 / (weight + 100)))\n",
    "\n",
    "    hitstun_multi = 1.0\n",
    "    hitstun_frames = math.floor(initial_kb * (4.07/3) * hitstun_multi*.92)\n",
    "\n",
    "    original_angle = 85 - 18\n",
    "    angle = original_angle * 2 * math.pi / 360\n",
    "    x_kb = initial_kb * math.cos(angle)\n",
    "    y_kb = initial_kb * math.sin(angle)\n",
    "    [x_kb,y_kb]\n",
    "\n",
    "    frame = 1\n",
    "    vx = 0\n",
    "    vy = 0\n",
    "    x_pos = 370.991\n",
    "    y_pos = 100.011\n",
    "    max_height = 0\n",
    "    for a in range(hitstun_frames):\n",
    "        if(frame < hitstun_gravity_jerk_frames):\n",
    "            vy += frame/hitstun_gravity_jerk_frames*-1*hitstun_gravity\n",
    "        else:\n",
    "            vy += hitstun_gravity*-1\n",
    "            vy = max(vy, -1*max_fall_speed)\n",
    "        y_kb -= 0.54 * math.sin(angle)\n",
    "        if y_kb < 0:\n",
    "            y_kb = 0\n",
    "        x_kb -= 0.54 * math.cos(angle)\n",
    "        if x_kb < 0:\n",
    "            x_kb = 0\n",
    "\n",
    "        x_pos += x_kb + vx\n",
    "        y_pos += y_kb + vy\n",
    "        max_height = max(max_height, y_pos)\n",
    "        frame += 1\n",
    "    print(\"{:.3f}\".format(max_height))\n",
    "\n",
    "\n",
    "pre_p = 0\n",
    "p = pre_p + 11\n",
    "\n",
    "base_kb = 7.0\n",
    "scaled_kb = 1.0\n",
    "\n",
    "initial_kb = 3 * (base_kb + scaled_kb * 0.120125 * p * (200 / (weight + 100)))\n",
    "\n",
    "hitstun_multi = 1.0\n",
    "hitstun_frames = math.floor(initial_kb * (4.07/3) * hitstun_multi*.92)\n",
    "\n",
    "original_angle = 85 - 18\n",
    "angle = original_angle * 2 * math.pi / 360\n",
    "x_kb = initial_kb * math.cos(angle)\n",
    "y_kb = initial_kb * math.sin(angle)\n",
    "[x_kb,y_kb]\n",
    "\n",
    "frame = 1\n",
    "vx = 0\n",
    "vy = 0\n",
    "x_pos = 370.991\n",
    "y_pos = 100.011\n",
    "max_height = 0\n",
    "for a in range(hitstun_frames):\n",
    "    if(frame < hitstun_gravity_jerk_frames):\n",
    "        vy += frame/hitstun_gravity_jerk_frames*-1*hitstun_gravity\n",
    "    else:\n",
    "        vy += hitstun_gravity*-1\n",
    "        vy = max(vy, -1*max_fall_speed)\n",
    "    y_kb -= 0.54 * math.sin(angle)\n",
    "    if y_kb < 0:\n",
    "        y_kb = 0\n",
    "    x_kb -= 0.54 * math.cos(angle)\n",
    "    if x_kb < 0:\n",
    "        x_kb = 0\n",
    "\n",
    "    x_pos += x_kb + vx\n",
    "    y_pos += y_kb + vy\n",
    "    max_height = max(max_height, y_pos)\n",
    "    frame += 1\n",
    "print(\"{:.3f}\".format(max_height))"
   ]
  }
 ],
 "metadata": {
  "kernelspec": {
   "display_name": "Python 3",
   "language": "python",
   "name": "python3"
  },
  "language_info": {
   "codemirror_mode": {
    "name": "ipython",
    "version": 3
   },
   "file_extension": ".py",
   "mimetype": "text/x-python",
   "name": "python",
   "nbconvert_exporter": "python",
   "pygments_lexer": "ipython3",
   "version": "3.12.6"
  }
 },
 "nbformat": 4,
 "nbformat_minor": 2
}
